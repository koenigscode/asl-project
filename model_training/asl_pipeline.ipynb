{
 "cells": [
  {
   "cell_type": "markdown",
   "metadata": {},
   "source": [
    "Import dependencies"
   ]
  },
  {
   "cell_type": "code",
   "execution_count": 1,
   "metadata": {},
   "outputs": [],
   "source": [
    "import landmark_detector as ld\n",
    "import os\n",
    "import random\n",
    "import numpy as np\n",
    "import keras\n",
    "from tqdm.notebook import tqdm\n",
    "from keras import layers"
   ]
  },
  {
   "cell_type": "markdown",
   "metadata": {},
   "source": [
    "Set variables"
   ]
  },
  {
   "cell_type": "code",
   "execution_count": 2,
   "metadata": {},
   "outputs": [],
   "source": [
    "words = ['deaf', 'eat', 'fish', 'friend', 'like', 'milk', 'nice', 'no', 'orange', 'teacher', 'want', 'what', 'where', 'yes']\n",
    "select_words = ['no', 'eat', 'teacher', 'want', 'fish']\n",
    "modes = ['train', 'val', 'test']\n",
    "path = '../preprocessing/dataset/'\n",
    "num_features = 126\n",
    "model_name = 'draft_model'\n",
    "fps = 20"
   ]
  },
  {
   "cell_type": "markdown",
   "metadata": {},
   "source": [
    "Get data from mediapipe\n"
   ]
  },
  {
   "cell_type": "code",
   "execution_count": 4,
   "metadata": {},
   "outputs": [
    {
     "name": "stderr",
     "output_type": "stream",
     "text": [
      "I0000 00:00:1733931393.718252  241459 gl_context.cc:357] GL version: 2.1 (2.1 Metal - 89.3), renderer: Apple M1 Pro\n",
      "W0000 00:00:1733931393.734725  242285 inference_feedback_manager.cc:114] Feedback manager requires a model with a single signature inference. Disabling support for feedback tensors.\n",
      "W0000 00:00:1733931393.744334  242285 inference_feedback_manager.cc:114] Feedback manager requires a model with a single signature inference. Disabling support for feedback tensors.\n"
     ]
    },
    {
     "data": {
      "application/vnd.jupyter.widget-view+json": {
       "model_id": "7d0fe054c9b04f36bbd075fc8d45cce1",
       "version_major": 2,
       "version_minor": 0
      },
      "text/plain": [
       "train:   0%|          | 0/5 [00:00<?, ?it/s]"
      ]
     },
     "metadata": {},
     "output_type": "display_data"
    },
    {
     "data": {
      "application/vnd.jupyter.widget-view+json": {
       "model_id": "d17f7d02133042cca10302abd526374d",
       "version_major": 2,
       "version_minor": 0
      },
      "text/plain": [
       "no:   0%|          | 0/32 [00:00<?, ?it/s]"
      ]
     },
     "metadata": {},
     "output_type": "display_data"
    },
    {
     "data": {
      "application/vnd.jupyter.widget-view+json": {
       "model_id": "c6240e92f6444c479bb110010ec1cea8",
       "version_major": 2,
       "version_minor": 0
      },
      "text/plain": [
       "eat:   0%|          | 0/43 [00:00<?, ?it/s]"
      ]
     },
     "metadata": {},
     "output_type": "display_data"
    },
    {
     "data": {
      "application/vnd.jupyter.widget-view+json": {
       "model_id": "d3296ef1212d4ab2b113a3831f91cf0a",
       "version_major": 2,
       "version_minor": 0
      },
      "text/plain": [
       "teacher:   0%|          | 0/37 [00:00<?, ?it/s]"
      ]
     },
     "metadata": {},
     "output_type": "display_data"
    },
    {
     "data": {
      "application/vnd.jupyter.widget-view+json": {
       "model_id": "9168050104384115a98158aeb97ea85b",
       "version_major": 2,
       "version_minor": 0
      },
      "text/plain": [
       "want:   0%|          | 0/38 [00:00<?, ?it/s]"
      ]
     },
     "metadata": {},
     "output_type": "display_data"
    },
    {
     "data": {
      "application/vnd.jupyter.widget-view+json": {
       "model_id": "772ecfb7b9094d6f8ef317d44751b99f",
       "version_major": 2,
       "version_minor": 0
      },
      "text/plain": [
       "fish:   0%|          | 0/42 [00:00<?, ?it/s]"
      ]
     },
     "metadata": {},
     "output_type": "display_data"
    },
    {
     "name": "stdout",
     "output_type": "stream",
     "text": [
      "Number of videos: 167\n",
      "Highest frame: 161\n",
      "Videos with no landmarkers detected:  25\n"
     ]
    }
   ],
   "source": [
    "def get_data(mode, words, path, detector_path):\n",
    "    detector = ld.get_detector(detector_path)\n",
    "\n",
    "    training_X = []\n",
    "    training_y = []\n",
    "\n",
    "    num_videos = 0\n",
    "    highest_frame = 0\n",
    "\n",
    "    bad_videos = 0\n",
    "\n",
    "    for word in tqdm(words, desc=mode):\n",
    "        word_path = os.path.join(path, mode, word)\n",
    "        \n",
    "        video_files = [f for f in os.listdir(word_path) if f.endswith('.mp4')]\n",
    "        \n",
    "        for video_file in tqdm(video_files, desc=word):\n",
    "            video_path = os.path.join(word_path, video_file)\n",
    "            \n",
    "            try:\n",
    "                video_X = []\n",
    "                landmarks, current_frames = ld.get_landmarks(video_path, detector)\n",
    "                \n",
    "                if len(landmarks) == 0:\n",
    "                    bad_videos+=1\n",
    "                    continue\n",
    "                \n",
    "                if current_frames > highest_frame:\n",
    "                    highest_frame = current_frames\n",
    "                \n",
    "                for frame in range(len(landmarks)):\n",
    "                    features = np.array(landmarks[frame]).flatten()\n",
    "                    video_X.append(features)\n",
    "                \n",
    "                training_X.append(video_X)\n",
    "                training_y.append(words.index(word))\n",
    "                num_videos += 1\n",
    "\n",
    "            except Exception as e:\n",
    "                print(f\"Error processing video {video_file}: {e}\")\n",
    "                continue \n",
    "\n",
    "    return training_X, training_y, num_videos, highest_frame, bad_videos\n",
    "\n",
    "training_X, training_y, num_videos, highest_frame, bad_videos = get_data('train', select_words, path, '../models/hand_landmarker.task')\n",
    "\n",
    "print('Number of videos:', num_videos)\n",
    "print('Highest frame:', highest_frame)\n",
    "print('Videos with no landmarkers detected: ', bad_videos)\n"
   ]
  },
  {
   "cell_type": "markdown",
   "metadata": {},
   "source": [
    "Padding and Masking X"
   ]
  },
  {
   "cell_type": "code",
   "execution_count": 5,
   "metadata": {},
   "outputs": [
    {
     "name": "stdout",
     "output_type": "stream",
     "text": [
      "(167, 161, 126)\n"
     ]
    }
   ],
   "source": [
    "def padX(X, num_videos, highest_frame, num_features):\n",
    "    padded_X = np.zeros((num_videos, highest_frame, num_features))\n",
    "    mask = np.ones((num_videos, highest_frame, num_features)) \n",
    "    for i in range(num_videos):\n",
    "        video = X[i]\n",
    "        for j in range(len(video)):\n",
    "            frame = video[j]\n",
    "            if len(frame) < num_features:\n",
    "                padded_X[i, j, :] = np.pad(frame, (0, num_features - len(frame)), 'constant')\n",
    "                mask[i, j, len(frame):] = 0\n",
    "            else:\n",
    "                padded_X[i, j, :] = frame\n",
    "        if len(video) < highest_frame:\n",
    "            mask[i, len(video):, :] = 0\n",
    "\n",
    "    return padded_X, mask\n",
    "\n",
    "padded_X, mask = padX(training_X, num_videos, highest_frame, num_features)\n",
    "print(padded_X.shape)"
   ]
  },
  {
   "cell_type": "markdown",
   "metadata": {},
   "source": [
    "Create model"
   ]
  },
  {
   "cell_type": "code",
   "execution_count": 6,
   "metadata": {},
   "outputs": [
    {
     "data": {
      "text/html": [
       "<pre style=\"white-space:pre;overflow-x:auto;line-height:normal;font-family:Menlo,'DejaVu Sans Mono',consolas,'Courier New',monospace\"><span style=\"font-weight: bold\">Model: \"sequential\"</span>\n",
       "</pre>\n"
      ],
      "text/plain": [
       "\u001b[1mModel: \"sequential\"\u001b[0m\n"
      ]
     },
     "metadata": {},
     "output_type": "display_data"
    },
    {
     "data": {
      "text/html": [
       "<pre style=\"white-space:pre;overflow-x:auto;line-height:normal;font-family:Menlo,'DejaVu Sans Mono',consolas,'Courier New',monospace\">┏━━━━━━━━━━━━━━━━━━━━━━━━━━━━━━━━━┳━━━━━━━━━━━━━━━━━━━━━━━━┳━━━━━━━━━━━━━━━┓\n",
       "┃<span style=\"font-weight: bold\"> Layer (type)                    </span>┃<span style=\"font-weight: bold\"> Output Shape           </span>┃<span style=\"font-weight: bold\">       Param # </span>┃\n",
       "┡━━━━━━━━━━━━━━━━━━━━━━━━━━━━━━━━━╇━━━━━━━━━━━━━━━━━━━━━━━━╇━━━━━━━━━━━━━━━┩\n",
       "│ masking (<span style=\"color: #0087ff; text-decoration-color: #0087ff\">Masking</span>)               │ (<span style=\"color: #00d7ff; text-decoration-color: #00d7ff\">None</span>, <span style=\"color: #00af00; text-decoration-color: #00af00\">161</span>, <span style=\"color: #00af00; text-decoration-color: #00af00\">126</span>)       │             <span style=\"color: #00af00; text-decoration-color: #00af00\">0</span> │\n",
       "├─────────────────────────────────┼────────────────────────┼───────────────┤\n",
       "│ lstm (<span style=\"color: #0087ff; text-decoration-color: #0087ff\">LSTM</span>)                     │ (<span style=\"color: #00d7ff; text-decoration-color: #00d7ff\">None</span>, <span style=\"color: #00af00; text-decoration-color: #00af00\">64</span>)             │        <span style=\"color: #00af00; text-decoration-color: #00af00\">48,896</span> │\n",
       "├─────────────────────────────────┼────────────────────────┼───────────────┤\n",
       "│ dense (<span style=\"color: #0087ff; text-decoration-color: #0087ff\">Dense</span>)                   │ (<span style=\"color: #00d7ff; text-decoration-color: #00d7ff\">None</span>, <span style=\"color: #00af00; text-decoration-color: #00af00\">32</span>)             │         <span style=\"color: #00af00; text-decoration-color: #00af00\">2,080</span> │\n",
       "├─────────────────────────────────┼────────────────────────┼───────────────┤\n",
       "│ dropout (<span style=\"color: #0087ff; text-decoration-color: #0087ff\">Dropout</span>)               │ (<span style=\"color: #00d7ff; text-decoration-color: #00d7ff\">None</span>, <span style=\"color: #00af00; text-decoration-color: #00af00\">32</span>)             │             <span style=\"color: #00af00; text-decoration-color: #00af00\">0</span> │\n",
       "├─────────────────────────────────┼────────────────────────┼───────────────┤\n",
       "│ dense_1 (<span style=\"color: #0087ff; text-decoration-color: #0087ff\">Dense</span>)                 │ (<span style=\"color: #00d7ff; text-decoration-color: #00d7ff\">None</span>, <span style=\"color: #00af00; text-decoration-color: #00af00\">5</span>)              │           <span style=\"color: #00af00; text-decoration-color: #00af00\">165</span> │\n",
       "└─────────────────────────────────┴────────────────────────┴───────────────┘\n",
       "</pre>\n"
      ],
      "text/plain": [
       "┏━━━━━━━━━━━━━━━━━━━━━━━━━━━━━━━━━┳━━━━━━━━━━━━━━━━━━━━━━━━┳━━━━━━━━━━━━━━━┓\n",
       "┃\u001b[1m \u001b[0m\u001b[1mLayer (type)                   \u001b[0m\u001b[1m \u001b[0m┃\u001b[1m \u001b[0m\u001b[1mOutput Shape          \u001b[0m\u001b[1m \u001b[0m┃\u001b[1m \u001b[0m\u001b[1m      Param #\u001b[0m\u001b[1m \u001b[0m┃\n",
       "┡━━━━━━━━━━━━━━━━━━━━━━━━━━━━━━━━━╇━━━━━━━━━━━━━━━━━━━━━━━━╇━━━━━━━━━━━━━━━┩\n",
       "│ masking (\u001b[38;5;33mMasking\u001b[0m)               │ (\u001b[38;5;45mNone\u001b[0m, \u001b[38;5;34m161\u001b[0m, \u001b[38;5;34m126\u001b[0m)       │             \u001b[38;5;34m0\u001b[0m │\n",
       "├─────────────────────────────────┼────────────────────────┼───────────────┤\n",
       "│ lstm (\u001b[38;5;33mLSTM\u001b[0m)                     │ (\u001b[38;5;45mNone\u001b[0m, \u001b[38;5;34m64\u001b[0m)             │        \u001b[38;5;34m48,896\u001b[0m │\n",
       "├─────────────────────────────────┼────────────────────────┼───────────────┤\n",
       "│ dense (\u001b[38;5;33mDense\u001b[0m)                   │ (\u001b[38;5;45mNone\u001b[0m, \u001b[38;5;34m32\u001b[0m)             │         \u001b[38;5;34m2,080\u001b[0m │\n",
       "├─────────────────────────────────┼────────────────────────┼───────────────┤\n",
       "│ dropout (\u001b[38;5;33mDropout\u001b[0m)               │ (\u001b[38;5;45mNone\u001b[0m, \u001b[38;5;34m32\u001b[0m)             │             \u001b[38;5;34m0\u001b[0m │\n",
       "├─────────────────────────────────┼────────────────────────┼───────────────┤\n",
       "│ dense_1 (\u001b[38;5;33mDense\u001b[0m)                 │ (\u001b[38;5;45mNone\u001b[0m, \u001b[38;5;34m5\u001b[0m)              │           \u001b[38;5;34m165\u001b[0m │\n",
       "└─────────────────────────────────┴────────────────────────┴───────────────┘\n"
      ]
     },
     "metadata": {},
     "output_type": "display_data"
    },
    {
     "data": {
      "text/html": [
       "<pre style=\"white-space:pre;overflow-x:auto;line-height:normal;font-family:Menlo,'DejaVu Sans Mono',consolas,'Courier New',monospace\"><span style=\"font-weight: bold\"> Total params: </span><span style=\"color: #00af00; text-decoration-color: #00af00\">51,141</span> (199.77 KB)\n",
       "</pre>\n"
      ],
      "text/plain": [
       "\u001b[1m Total params: \u001b[0m\u001b[38;5;34m51,141\u001b[0m (199.77 KB)\n"
      ]
     },
     "metadata": {},
     "output_type": "display_data"
    },
    {
     "data": {
      "text/html": [
       "<pre style=\"white-space:pre;overflow-x:auto;line-height:normal;font-family:Menlo,'DejaVu Sans Mono',consolas,'Courier New',monospace\"><span style=\"font-weight: bold\"> Trainable params: </span><span style=\"color: #00af00; text-decoration-color: #00af00\">51,141</span> (199.77 KB)\n",
       "</pre>\n"
      ],
      "text/plain": [
       "\u001b[1m Trainable params: \u001b[0m\u001b[38;5;34m51,141\u001b[0m (199.77 KB)\n"
      ]
     },
     "metadata": {},
     "output_type": "display_data"
    },
    {
     "data": {
      "text/html": [
       "<pre style=\"white-space:pre;overflow-x:auto;line-height:normal;font-family:Menlo,'DejaVu Sans Mono',consolas,'Courier New',monospace\"><span style=\"font-weight: bold\"> Non-trainable params: </span><span style=\"color: #00af00; text-decoration-color: #00af00\">0</span> (0.00 B)\n",
       "</pre>\n"
      ],
      "text/plain": [
       "\u001b[1m Non-trainable params: \u001b[0m\u001b[38;5;34m0\u001b[0m (0.00 B)\n"
      ]
     },
     "metadata": {},
     "output_type": "display_data"
    }
   ],
   "source": [
    "model = keras.Sequential()\n",
    "\n",
    "model.add(keras.Input(shape=(highest_frame, num_features)))\n",
    "#model.add(keras.layers.SimpleRNN(len(select_words), activation='relu'))\n",
    "model.add(layers.Masking(mask_value=0.0))\n",
    "model.add(layers.LSTM(64))\n",
    "model.add(layers.Dense(32, activation='relu'))\n",
    "model.add(layers.Dropout(0.5))\n",
    "model.add(layers.Dense(len(select_words), activation='softmax'))\n",
    "\n",
    "\n",
    "model.summary()"
   ]
  },
  {
   "cell_type": "markdown",
   "metadata": {},
   "source": [
    "Train model"
   ]
  },
  {
   "cell_type": "code",
   "execution_count": 7,
   "metadata": {},
   "outputs": [
    {
     "name": "stderr",
     "output_type": "stream",
     "text": [
      "I0000 00:00:1733931670.047556  241459 gl_context.cc:357] GL version: 2.1 (2.1 Metal - 89.3), renderer: Apple M1 Pro\n",
      "W0000 00:00:1733931670.062890  249170 inference_feedback_manager.cc:114] Feedback manager requires a model with a single signature inference. Disabling support for feedback tensors.\n",
      "W0000 00:00:1733931670.073577  249170 inference_feedback_manager.cc:114] Feedback manager requires a model with a single signature inference. Disabling support for feedback tensors.\n"
     ]
    },
    {
     "data": {
      "application/vnd.jupyter.widget-view+json": {
       "model_id": "93d7bb02ea934210af816e71f1c68fea",
       "version_major": 2,
       "version_minor": 0
      },
      "text/plain": [
       "val:   0%|          | 0/5 [00:00<?, ?it/s]"
      ]
     },
     "metadata": {},
     "output_type": "display_data"
    },
    {
     "data": {
      "application/vnd.jupyter.widget-view+json": {
       "model_id": "7703541676ce4d0793f8d171c9ad3da5",
       "version_major": 2,
       "version_minor": 0
      },
      "text/plain": [
       "no:   0%|          | 0/13 [00:00<?, ?it/s]"
      ]
     },
     "metadata": {},
     "output_type": "display_data"
    },
    {
     "data": {
      "application/vnd.jupyter.widget-view+json": {
       "model_id": "e6d19e4b45a549cda80f8750a28f3a3b",
       "version_major": 2,
       "version_minor": 0
      },
      "text/plain": [
       "eat:   0%|          | 0/10 [00:00<?, ?it/s]"
      ]
     },
     "metadata": {},
     "output_type": "display_data"
    },
    {
     "data": {
      "application/vnd.jupyter.widget-view+json": {
       "model_id": "2836ffd36b45485d9792630045ad81db",
       "version_major": 2,
       "version_minor": 0
      },
      "text/plain": [
       "teacher:   0%|          | 0/11 [00:00<?, ?it/s]"
      ]
     },
     "metadata": {},
     "output_type": "display_data"
    },
    {
     "data": {
      "application/vnd.jupyter.widget-view+json": {
       "model_id": "b533e8019d3b4575919e6dfc33f740e1",
       "version_major": 2,
       "version_minor": 0
      },
      "text/plain": [
       "want:   0%|          | 0/5 [00:00<?, ?it/s]"
      ]
     },
     "metadata": {},
     "output_type": "display_data"
    },
    {
     "data": {
      "application/vnd.jupyter.widget-view+json": {
       "model_id": "1a235cfaa53542b5bb1188bcab059194",
       "version_major": 2,
       "version_minor": 0
      },
      "text/plain": [
       "fish:   0%|          | 0/8 [00:00<?, ?it/s]"
      ]
     },
     "metadata": {},
     "output_type": "display_data"
    },
    {
     "name": "stdout",
     "output_type": "stream",
     "text": [
      "Epoch 1/10\n",
      "\u001b[1m6/6\u001b[0m \u001b[32m━━━━━━━━━━━━━━━━━━━━\u001b[0m\u001b[37m\u001b[0m \u001b[1m1s\u001b[0m 87ms/step - accuracy: 0.2995 - loss: 1.6223 - val_accuracy: 0.1351 - val_loss: 1.5919\n",
      "Epoch 2/10\n",
      "\u001b[1m6/6\u001b[0m \u001b[32m━━━━━━━━━━━━━━━━━━━━\u001b[0m\u001b[37m\u001b[0m \u001b[1m0s\u001b[0m 58ms/step - accuracy: 0.2730 - loss: 1.5429 - val_accuracy: 0.2973 - val_loss: 1.4989\n",
      "Epoch 3/10\n",
      "\u001b[1m6/6\u001b[0m \u001b[32m━━━━━━━━━━━━━━━━━━━━\u001b[0m\u001b[37m\u001b[0m \u001b[1m0s\u001b[0m 60ms/step - accuracy: 0.3606 - loss: 1.4760 - val_accuracy: 0.4324 - val_loss: 1.4495\n",
      "Epoch 4/10\n",
      "\u001b[1m6/6\u001b[0m \u001b[32m━━━━━━━━━━━━━━━━━━━━\u001b[0m\u001b[37m\u001b[0m \u001b[1m0s\u001b[0m 58ms/step - accuracy: 0.3834 - loss: 1.4045 - val_accuracy: 0.4054 - val_loss: 1.4066\n",
      "Epoch 5/10\n",
      "\u001b[1m6/6\u001b[0m \u001b[32m━━━━━━━━━━━━━━━━━━━━\u001b[0m\u001b[37m\u001b[0m \u001b[1m0s\u001b[0m 62ms/step - accuracy: 0.4829 - loss: 1.3138 - val_accuracy: 0.4324 - val_loss: 1.3253\n",
      "Epoch 6/10\n",
      "\u001b[1m6/6\u001b[0m \u001b[32m━━━━━━━━━━━━━━━━━━━━\u001b[0m\u001b[37m\u001b[0m \u001b[1m0s\u001b[0m 58ms/step - accuracy: 0.4390 - loss: 1.3088 - val_accuracy: 0.4595 - val_loss: 1.2972\n",
      "Epoch 7/10\n",
      "\u001b[1m6/6\u001b[0m \u001b[32m━━━━━━━━━━━━━━━━━━━━\u001b[0m\u001b[37m\u001b[0m \u001b[1m0s\u001b[0m 58ms/step - accuracy: 0.5391 - loss: 1.2187 - val_accuracy: 0.4054 - val_loss: 1.3501\n",
      "Epoch 8/10\n",
      "\u001b[1m6/6\u001b[0m \u001b[32m━━━━━━━━━━━━━━━━━━━━\u001b[0m\u001b[37m\u001b[0m \u001b[1m0s\u001b[0m 57ms/step - accuracy: 0.5081 - loss: 1.2203 - val_accuracy: 0.4595 - val_loss: 1.2536\n",
      "Epoch 9/10\n",
      "\u001b[1m6/6\u001b[0m \u001b[32m━━━━━━━━━━━━━━━━━━━━\u001b[0m\u001b[37m\u001b[0m \u001b[1m0s\u001b[0m 58ms/step - accuracy: 0.5794 - loss: 1.1730 - val_accuracy: 0.4324 - val_loss: 1.3245\n",
      "Epoch 10/10\n",
      "\u001b[1m6/6\u001b[0m \u001b[32m━━━━━━━━━━━━━━━━━━━━\u001b[0m\u001b[37m\u001b[0m \u001b[1m0s\u001b[0m 58ms/step - accuracy: 0.5154 - loss: 1.1926 - val_accuracy: 0.4324 - val_loss: 1.3235\n"
     ]
    }
   ],
   "source": [
    "val_X, val_y, num_val_videos, highest_frame_val, bad_videos = get_data('val', select_words, path, '../models/hand_landmarker.task')\n",
    "padded_val_X, val_mask = padX(val_X, num_val_videos, highest_frame, num_features)\n",
    "\n",
    "model.compile(optimizer='adam', loss='sparse_categorical_crossentropy', metrics=['accuracy'])\n",
    "model.fit(padded_X, np.array(training_y), epochs=10, validation_data=(padded_val_X, np.array(val_y)))\n",
    "\n",
    "model.save(f'../models/{model_name}.keras')\n",
    "\n",
    "with open(f\"../models/{model_name}.env\", \"w\") as file:\n",
    "    file.write(f\"MAX_FRAMES={highest_frame}\\n\")\n",
    "    file.write(f\"NUM_FEATURES={num_features}\\n\")\n",
    "    file.write(f\"WORDS={\",\".join(select_words)}\\n\")\n",
    "    file.write(f\"FPS={fps}\\n\")"
   ]
  },
  {
   "cell_type": "markdown",
   "metadata": {},
   "source": [
    "Evaluate model"
   ]
  },
  {
   "cell_type": "code",
   "execution_count": 8,
   "metadata": {},
   "outputs": [
    {
     "name": "stderr",
     "output_type": "stream",
     "text": [
      "I0000 00:00:1733931754.320265  241459 gl_context.cc:357] GL version: 2.1 (2.1 Metal - 89.3), renderer: Apple M1 Pro\n",
      "W0000 00:00:1733931754.339085  252493 inference_feedback_manager.cc:114] Feedback manager requires a model with a single signature inference. Disabling support for feedback tensors.\n",
      "W0000 00:00:1733931754.347562  252498 inference_feedback_manager.cc:114] Feedback manager requires a model with a single signature inference. Disabling support for feedback tensors.\n"
     ]
    },
    {
     "data": {
      "application/vnd.jupyter.widget-view+json": {
       "model_id": "3a560205b9a34000b7cbcdc5a26478c1",
       "version_major": 2,
       "version_minor": 0
      },
      "text/plain": [
       "test:   0%|          | 0/5 [00:00<?, ?it/s]"
      ]
     },
     "metadata": {},
     "output_type": "display_data"
    },
    {
     "data": {
      "application/vnd.jupyter.widget-view+json": {
       "model_id": "a4aab1782f4742d4b0a324832a0d9479",
       "version_major": 2,
       "version_minor": 0
      },
      "text/plain": [
       "no:   0%|          | 0/8 [00:00<?, ?it/s]"
      ]
     },
     "metadata": {},
     "output_type": "display_data"
    },
    {
     "data": {
      "application/vnd.jupyter.widget-view+json": {
       "model_id": "6921c2e687d245ea9e5733675b60157a",
       "version_major": 2,
       "version_minor": 0
      },
      "text/plain": [
       "eat:   0%|          | 0/5 [00:00<?, ?it/s]"
      ]
     },
     "metadata": {},
     "output_type": "display_data"
    },
    {
     "data": {
      "application/vnd.jupyter.widget-view+json": {
       "model_id": "1d207584099c4dff897b33319f8642ac",
       "version_major": 2,
       "version_minor": 0
      },
      "text/plain": [
       "teacher:   0%|          | 0/10 [00:00<?, ?it/s]"
      ]
     },
     "metadata": {},
     "output_type": "display_data"
    },
    {
     "data": {
      "application/vnd.jupyter.widget-view+json": {
       "model_id": "b491b230358e4e76a1dc541bbda42e1f",
       "version_major": 2,
       "version_minor": 0
      },
      "text/plain": [
       "want:   0%|          | 0/6 [00:00<?, ?it/s]"
      ]
     },
     "metadata": {},
     "output_type": "display_data"
    },
    {
     "data": {
      "application/vnd.jupyter.widget-view+json": {
       "model_id": "908b272b44d14d5081e47b39df52e6cf",
       "version_major": 2,
       "version_minor": 0
      },
      "text/plain": [
       "fish:   0%|          | 0/4 [00:00<?, ?it/s]"
      ]
     },
     "metadata": {},
     "output_type": "display_data"
    },
    {
     "name": "stdout",
     "output_type": "stream",
     "text": [
      "\u001b[1m1/1\u001b[0m \u001b[32m━━━━━━━━━━━━━━━━━━━━\u001b[0m\u001b[37m\u001b[0m \u001b[1m0s\u001b[0m 30ms/step - accuracy: 0.4348 - loss: 1.2578\n",
      "Test loss: [1.2577627897262573, 0.43478259444236755]\n"
     ]
    }
   ],
   "source": [
    "test_X, test_y, num_test_videos, highest_frame_test, bad_videos = get_data('test', select_words, path, '../models/hand_landmarker.task')\n",
    "padded_test_X, test_mask = padX(test_X, num_test_videos, highest_frame, num_features)\n",
    "results = model.evaluate(padded_test_X, np.array(test_y))\n",
    "\n",
    "print('Test loss:', results)"
   ]
  },
  {
   "cell_type": "markdown",
   "metadata": {},
   "source": [
    "Use model"
   ]
  },
  {
   "cell_type": "code",
   "execution_count": 9,
   "metadata": {},
   "outputs": [
    {
     "name": "stderr",
     "output_type": "stream",
     "text": [
      "I0000 00:00:1733931813.589535  241459 gl_context.cc:357] GL version: 2.1 (2.1 Metal - 89.3), renderer: Apple M1 Pro\n",
      "W0000 00:00:1733931813.610589  253796 inference_feedback_manager.cc:114] Feedback manager requires a model with a single signature inference. Disabling support for feedback tensors.\n",
      "W0000 00:00:1733931813.622089  253795 inference_feedback_manager.cc:114] Feedback manager requires a model with a single signature inference. Disabling support for feedback tensors.\n"
     ]
    },
    {
     "name": "stdout",
     "output_type": "stream",
     "text": [
      "(1, 161, 126)\n",
      "\u001b[1m1/1\u001b[0m \u001b[32m━━━━━━━━━━━━━━━━━━━━\u001b[0m\u001b[37m\u001b[0m \u001b[1m0s\u001b[0m 74ms/step\n",
      "[[0.13081026 0.2460382  0.3506925  0.13141038 0.14104864]]\n"
     ]
    }
   ],
   "source": [
    "detector = ld.get_detector('../models/hand_landmarker.task')\n",
    "\n",
    "prediction_X = []\n",
    "prediction_y = []\n",
    "\n",
    "test_path = path + 'test/teacher/'\n",
    "files = os.listdir(test_path)\n",
    "mp4_files = [f for f in files if f.endswith('.mp4')]\n",
    "random_file = random.choice(mp4_files)\n",
    "video_path = os.path.join(test_path, random_file)\n",
    "\n",
    "video_X = []\n",
    "landmarks, frame_count = ld.get_landmarks(video_path, detector)\n",
    "if len(landmarks) == 0:\n",
    "    print('No landmarks detected')\n",
    "else:\n",
    "    for frame in range(len(landmarks)):\n",
    "        features = np.array(landmarks[frame]).flatten()\n",
    "        features = np.pad(features, (0, num_features - len(features)), 'constant')\n",
    "        video_X.append(features)\n",
    "    for i in range(highest_frame-len(video_X)):\n",
    "        temp = np.zeros((num_features))\n",
    "        video_X.append(temp)\n",
    "\n",
    "    prediction_X.append(video_X)\n",
    "    prediction_y.append(select_words.index('teacher'))\n",
    "\n",
    "\n",
    "    print(np.shape(prediction_X))\n",
    "    print(model.predict(np.array(prediction_X)))"
   ]
  }
 ],
 "metadata": {
  "kernelspec": {
   "display_name": "Python 3 (ipykernel)",
   "language": "python",
   "name": "python3"
  },
  "language_info": {
   "codemirror_mode": {
    "name": "ipython",
    "version": 3
   },
   "file_extension": ".py",
   "mimetype": "text/x-python",
   "name": "python",
   "nbconvert_exporter": "python",
   "pygments_lexer": "ipython3",
   "version": "3.12.7"
  }
 },
 "nbformat": 4,
 "nbformat_minor": 4
}
